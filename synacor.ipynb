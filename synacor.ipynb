{
 "cells": [
  {
   "cell_type": "code",
   "execution_count": null,
   "metadata": {
    "ExecuteTime": {
     "end_time": "2018-12-26T02:46:12.642421Z",
     "start_time": "2018-12-26T02:46:12.640417Z"
    },
    "collapsed": true
   },
   "outputs": [],
   "source": [
    "from itertools import zip_longest\n",
    "import sys\n",
    "from collections import defaultdict"
   ]
  },
  {
   "cell_type": "code",
   "execution_count": null,
   "metadata": {
    "ExecuteTime": {
     "end_time": "2018-12-26T02:20:17.923272Z",
     "start_time": "2018-12-26T02:20:17.919269Z"
    },
    "collapsed": true
   },
   "outputs": [],
   "source": [
    "def grouper(iterable, n, fillvalue=None):\n",
    "    \"Collect data into fixed-length chunks or blocks\"\n",
    "    # grouper('ABCDEFG', 3, 'x') --> ABC DEF Gxx\n",
    "    args = [iter(iterable)] * n\n",
    "    return zip_longest(fillvalue=fillvalue, *args)\n",
    "\n",
    "lmap = lambda fn, x: list(map(fn, x))"
   ]
  },
  {
   "cell_type": "code",
   "execution_count": null,
   "metadata": {
    "ExecuteTime": {
     "end_time": "2018-12-26T02:20:18.237574Z",
     "start_time": "2018-12-26T02:20:18.231568Z"
    },
    "collapsed": true
   },
   "outputs": [],
   "source": [
    "code = open(\"challenge.bin\", \"rb\").read()\n",
    "code = [n1+n2*256 for n1, n2 in grouper(code, 2)]"
   ]
  },
  {
   "cell_type": "code",
   "execution_count": null,
   "metadata": {
    "ExecuteTime": {
     "end_time": "2018-12-26T02:20:18.511836Z",
     "start_time": "2018-12-26T02:20:18.504830Z"
    }
   },
   "outputs": [],
   "source": [
    "code[:10]"
   ]
  },
  {
   "cell_type": "code",
   "execution_count": null,
   "metadata": {
    "ExecuteTime": {
     "end_time": "2018-12-26T02:57:18.403223Z",
     "start_time": "2018-12-26T02:57:18.303139Z"
    }
   },
   "outputs": [],
   "source": [
    "REG_OFFSET = 32768\n",
    "regs = {v: 0 for v in range(8)}\n",
    "mem = defaultdict(int, {i: v for i, v in enumerate(code)})\n",
    "\n",
    "inputbuffer = []\n",
    "\n",
    "def deref(a):\n",
    "    return a if a < REG_OFFSET else regs[a-REG_OFFSET]\n",
    "\n",
    "def halt():\n",
    "    return \"HALT\"\n",
    "\n",
    "def _set(a, b):\n",
    "    global regs\n",
    "    regs[a-REG_OFFSET] = deref(b)\n",
    "\n",
    "def eq(a, b, c):\n",
    "    global regs\n",
    "    regs[a-REG_OFFSET] = 1 if deref(b) == deref(c) else 0\n",
    "\n",
    "def gt(a, b, c):\n",
    "    global regs\n",
    "    regs[a-REG_OFFSET] = 1 if deref(b) > deref(c) else 0\n",
    "\n",
    "def add(a, b, c):\n",
    "    global regs\n",
    "    regs[a-REG_OFFSET] = (deref(b) + deref(c)) % REG_OFFSET\n",
    "\n",
    "def mult(a, b, c):\n",
    "    global regs\n",
    "    regs[a-REG_OFFSET] = (deref(b) * deref(c)) % REG_OFFSET\n",
    "\n",
    "def mod(a, b, c):\n",
    "    global regs\n",
    "    regs[a-REG_OFFSET] = deref(b) % deref(c)\n",
    "\n",
    "def _and(a, b, c):\n",
    "    global regs\n",
    "    regs[a-REG_OFFSET] = deref(b) & deref(c)\n",
    "\n",
    "def _or(a, b, c):\n",
    "    global regs\n",
    "    regs[a-REG_OFFSET] = deref(b) | deref(c)\n",
    "\n",
    "def _not(a, b):\n",
    "    global regs\n",
    "    regs[a-REG_OFFSET] = ~deref(b) & 0x7FFF\n",
    "\n",
    "def out(a):\n",
    "    print(chr(deref(a)), end=\"\")\n",
    "\n",
    "def jmp(a):\n",
    "    global ip\n",
    "    ip = deref(a)-1\n",
    "\n",
    "def jt(a, b):\n",
    "    global ip\n",
    "    if deref(a) != 0:\n",
    "        ip = deref(b)-1\n",
    "\n",
    "def jf(a, b):\n",
    "    global ip\n",
    "    if deref(a) == 0:\n",
    "        ip = deref(b)-1\n",
    "\n",
    "def push(a):\n",
    "    global stack\n",
    "    stack.append(deref(a))\n",
    "    \n",
    "def pop(a):\n",
    "    global stack\n",
    "    regs[a-REG_OFFSET] = stack.pop()\n",
    "\n",
    "def call(a):\n",
    "    global stack, ip\n",
    "    stack.append(ip+1)\n",
    "    ip = deref(a)-1\n",
    "\n",
    "def ret():\n",
    "    global stack, ip\n",
    "    ip = stack.pop()-1\n",
    "    \n",
    "def rmem(a, b):\n",
    "    global mem\n",
    "    regs[a-REG_OFFSET] = mem[deref(b)]\n",
    "    \n",
    "def wmem(a, b):\n",
    "    global mem\n",
    "    mem[deref(a)] = deref(b)\n",
    "\n",
    "def _in(a):\n",
    "    global inputbuffer\n",
    "    if len(inputbuffer) == 0:\n",
    "        i = input()\n",
    "        for c in i:\n",
    "            inputbuffer.append(c)\n",
    "        inputbuffer.append(\"\\n\")\n",
    "    regs[a-REG_OFFSET] = ord(inputbuffer.pop(0))\n",
    "     \n",
    "def noop():\n",
    "    pass\n",
    "\n",
    "def not_impl(*args):\n",
    "    print(\"{}\".format(args), file=sys.stderr, end=\" \")\n",
    "\n",
    "insts = {0: halt, 1: _set, \n",
    "         2: push, 3: pop, \n",
    "         4: eq, 5: gt, \n",
    "         6: jmp, 7: jt, 8: jf, \n",
    "         9: add, 10: mult, 11: mod, \n",
    "         12: _and, 13: _or, 14: _not, \n",
    "         15: rmem, 16: wmem,\n",
    "         17: call, 18: ret, 19: out,\n",
    "         20: _in,\n",
    "         21: noop}"
   ]
  },
  {
   "cell_type": "code",
   "execution_count": null,
   "metadata": {
    "ExecuteTime": {
     "end_time": "2018-12-26T02:57:18.544359Z",
     "start_time": "2018-12-26T02:57:18.541358Z"
    }
   },
   "outputs": [],
   "source": [
    "s = 'hlt: 0\\nset: 1 a b\\npush: 2 a\\npop: 3 a\\neq: 4 a b c\\ngt: 5 a b c\\njmp: 6 a\\njt: 7 a b\\njf: 8 a b\\nadd: 9 a b c\\nmult: 10 a b c\\nmod: 11 a b c\\nand: 12 a b c\\nor: 13 a b c\\nnot: 14 a b\\nrmem: 15 a b\\nwmem: 16 a b\\ncall: 17 a\\nret: 18\\nout: 19 a\\nin: 20 a\\nnoop: 21'\n",
    "code_takes = {int(l[1]): len(l)-2 for l in lmap(str.split, s.split(\"\\n\"))}"
   ]
  },
  {
   "cell_type": "code",
   "execution_count": null,
   "metadata": {
    "ExecuteTime": {
     "end_time": "2018-12-26T02:57:18.779599Z",
     "start_time": "2018-12-26T02:57:18.764586Z"
    }
   },
   "outputs": [],
   "source": [
    "program = []\n",
    "left = 0\n",
    "for c in code:\n",
    "    if left > 0:\n",
    "        program[-1].append(c)\n",
    "        left -= 1\n",
    "    else:\n",
    "        program.append([c])\n",
    "        left = code_takes.get(c, 0)"
   ]
  },
  {
   "cell_type": "code",
   "execution_count": null,
   "metadata": {
    "ExecuteTime": {
     "end_time": "2018-12-26T03:07:06.553173Z",
     "start_time": "2018-12-26T02:57:18.999812Z"
    },
    "scrolled": false
   },
   "outputs": [],
   "source": [
    "ip = 0\n",
    "stack = []\n",
    "regs = {v: 0 for v in range(8)}\n",
    "mem = defaultdict(int, {i: v for i, v in enumerate(code)})\n",
    "\n",
    "def exec():\n",
    "    global ip\n",
    "    left = 0\n",
    "    res = None\n",
    "    while res != \"HALT\":\n",
    "        c = mem[ip]\n",
    "        if left == 0:\n",
    "            fn = insts.get(c, not_impl)\n",
    "            cmd = c\n",
    "            left = code_takes[c]\n",
    "            args = []\n",
    "            if fn == not_impl:\n",
    "                args.append(c)\n",
    "        else:\n",
    "            args.append(c)\n",
    "            left -= 1\n",
    "        if left == 0:\n",
    "            res = fn(*args)\n",
    "        ip += 1\n",
    "exec()"
   ]
  },
  {
   "cell_type": "code",
   "execution_count": null,
   "metadata": {
    "ExecuteTime": {
     "end_time": "2018-12-26T02:30:44.950297Z",
     "start_time": "2018-12-26T02:30:44.946294Z"
    }
   },
   "outputs": [],
   "source": [
    "' '.join(map(str, code[527:540]))"
   ]
  },
  {
   "cell_type": "code",
   "execution_count": null,
   "metadata": {
    "ExecuteTime": {
     "end_time": "2018-12-26T02:47:52.937020Z",
     "start_time": "2018-12-26T02:47:52.933016Z"
    }
   },
   "outputs": [],
   "source": [
    "mem"
   ]
  },
  {
   "cell_type": "code",
   "execution_count": null,
   "metadata": {
    "collapsed": true
   },
   "outputs": [],
   "source": []
  }
 ],
 "metadata": {
  "kernelspec": {
   "display_name": "Python 3",
   "language": "python",
   "name": "python3"
  },
  "language_info": {
   "codemirror_mode": {
    "name": "ipython",
    "version": 3
   },
   "file_extension": ".py",
   "mimetype": "text/x-python",
   "name": "python",
   "nbconvert_exporter": "python",
   "pygments_lexer": "ipython3",
   "version": "3.6.1"
  }
 },
 "nbformat": 4,
 "nbformat_minor": 2
}
